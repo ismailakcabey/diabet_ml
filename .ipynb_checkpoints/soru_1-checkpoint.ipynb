{
 "cells": [
  {
   "cell_type": "code",
   "execution_count": 1,
   "id": "fcc60d5f",
   "metadata": {},
   "outputs": [],
   "source": [
    "import numpy as np\n",
    "import pandas as pd"
   ]
  },
  {
   "cell_type": "code",
   "execution_count": 3,
   "id": "e3844a0a",
   "metadata": {},
   "outputs": [],
   "source": [
    "try:\n",
    "    df = pd.read_csv('data.txt', delimiter='\\t', header=None)\n",
    "except Exception as e:\n",
    "    print(f\"Error reading the data file: {e}\")\n",
    "    raise"
   ]
  },
  {
   "cell_type": "code",
   "execution_count": 4,
   "id": "4b76977f",
   "metadata": {},
   "outputs": [
    {
     "name": "stdout",
     "output_type": "stream",
     "text": [
      "     0      1     2     3      4     5      6     7    8\n",
      "0    6  148.0  72.0  35.0    0.0  33.6  0.627  50.0  1.0\n",
      "1    1   85.0  66.0  29.0    0.0  26.6  0.351  31.0  0.0\n",
      "2    8  183.0  64.0   0.0    0.0  23.3  0.672  32.0  1.0\n",
      "3    1   89.0  66.0  23.0   94.0  28.1  0.167  21.0  0.0\n",
      "4    0  137.0  40.0  35.0  168.0  43.1  2.288  33.0  1.0\n",
      "..  ..    ...   ...   ...    ...   ...    ...   ...  ...\n",
      "764  2  122.0  70.0  27.0    0.0  36.8  0.340  27.0  0.0\n",
      "765  5  121.0  72.0  23.0  112.0  26.2  0.245  30.0  0.0\n",
      "766  1  126.0  60.0   0.0    0.0  30.1  0.349  47.0  1.0\n",
      "767  1   93.0  70.0  31.0    0.0  30.4  0.315  23.0  0.0\n",
      "768  1    NaN   NaN   NaN    NaN   NaN    NaN   NaN  NaN\n",
      "\n",
      "[769 rows x 9 columns]\n"
     ]
    }
   ],
   "source": [
    "print(df)"
   ]
  },
  {
   "cell_type": "code",
   "execution_count": 5,
   "id": "dccbe167",
   "metadata": {},
   "outputs": [],
   "source": [
    "# Sütun adlarını ekle\n",
    "df.columns = [\n",
    "    'Number of times pregnant',\n",
    "    'Plasma glucose concentration a 2 hours in an oral glucose tolerance test',\n",
    "    'Diastolic blood pressure (mm Hg)',\n",
    "    'Triceps skinfold thickness (mm)',\n",
    "    '2-Hour serum insulin (mu U/ml)',\n",
    "    'Body mass index (weight in kg/(height in m)^2)',\n",
    "    'Diabetes pedigree function',\n",
    "    'Age (years)',\n",
    "    'Class variable (0 or 1)'\n",
    "]"
   ]
  },
  {
   "cell_type": "code",
   "execution_count": 6,
   "id": "845545f5",
   "metadata": {},
   "outputs": [],
   "source": [
    "# Min-Max Normalizasyonu uygula\n",
    "def min_max_normalize(df):\n",
    "    return (df - df.min()) / (df.max() - df.min())"
   ]
  },
  {
   "cell_type": "code",
   "execution_count": 7,
   "id": "2d11dc1b",
   "metadata": {},
   "outputs": [],
   "source": [
    "normalized_df = min_max_normalize(df)"
   ]
  },
  {
   "cell_type": "code",
   "execution_count": 8,
   "id": "ae215c32",
   "metadata": {},
   "outputs": [
    {
     "name": "stdout",
     "output_type": "stream",
     "text": [
      "Veri başarılı bir şekilde normalize edilip CSV dosyasına yazıldı.\n"
     ]
    }
   ],
   "source": [
    "# Sonuçları CSV dosyasına yaz\n",
    "normalized_df.to_csv('normalized_data.csv', index=False)\n",
    "\n",
    "print(\"Veri başarılı bir şekilde normalize edilip CSV dosyasına yazıldı.\")"
   ]
  },
  {
   "cell_type": "code",
   "execution_count": null,
   "id": "bdfda53d",
   "metadata": {},
   "outputs": [],
   "source": []
  }
 ],
 "metadata": {
  "kernelspec": {
   "display_name": "Python 3 (ipykernel)",
   "language": "python",
   "name": "python3"
  },
  "language_info": {
   "codemirror_mode": {
    "name": "ipython",
    "version": 3
   },
   "file_extension": ".py",
   "mimetype": "text/x-python",
   "name": "python",
   "nbconvert_exporter": "python",
   "pygments_lexer": "ipython3",
   "version": "3.11.7"
  }
 },
 "nbformat": 4,
 "nbformat_minor": 5
}
